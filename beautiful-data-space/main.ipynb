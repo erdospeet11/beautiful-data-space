{
 "cells": [
  {
   "cell_type": "code",
   "execution_count": null,
   "id": "66962cb0",
   "metadata": {},
   "outputs": [
    {
     "name": "stdout",
     "output_type": "stream",
     "text": [
      "5nzUtx2VVuHCLehskeUnmBruOJQc2GLMHFtgxBjU\n"
     ]
    }
   ],
   "source": [
    "import os\n",
    "from dotenv import load_dotenv\n",
    "\n",
    "load_dotenv()\n",
    "\n",
    "api = os.getenv('NASA_OPENAPI_KEY')"
   ]
  },
  {
   "cell_type": "code",
   "execution_count": null,
   "id": "fe0b43e8",
   "metadata": {},
   "outputs": [
    {
     "data": {
      "text/plain": [
       "'https://apod.nasa.gov/apod/image/2508/IMG_20250813_202125v1.jpg'"
      ]
     },
     "execution_count": 14,
     "metadata": {},
     "output_type": "execute_result"
    }
   ],
   "source": [
    "import requests\n",
    "\n",
    "response = requests.get('https://api.nasa.gov/planetary/apod', params={'api_key': api})\n",
    "\n",
    "if response.headers['Content-Type'] == 'application/json':\n",
    "    data = response.json()\n",
    "    url = data.get('url')\n",
    "\n",
    "url"
   ]
  },
  {
   "cell_type": "code",
   "execution_count": 17,
   "id": "1bfaa714",
   "metadata": {},
   "outputs": [
    {
     "data": {
      "text/html": [
       "<div style='text-align:center'><img src='https://apod.nasa.gov/apod/image/2508/IMG_20250813_202125v1.jpg'></div>"
      ],
      "text/plain": [
       "<IPython.core.display.HTML object>"
      ]
     },
     "metadata": {},
     "output_type": "display_data"
    }
   ],
   "source": [
    "from IPython.display import display, HTML\n",
    "\n",
    "display(HTML(f\"<div style='text-align:center'><img src='{url}'></div>\"))"
   ]
  },
  {
   "cell_type": "markdown",
   "id": "9226c03d",
   "metadata": {},
   "source": [
    "### Solar Flares\n",
    "\n",
    "In my novel I am writing, there is a cosmic entity: The Pulse."
   ]
  },
  {
   "cell_type": "code",
   "execution_count": null,
   "id": "85a3e00a",
   "metadata": {},
   "outputs": [
    {
     "name": "stdout",
     "output_type": "stream",
     "text": [
      "200\n",
      "[{'sepID': '2025-01-04T21:46:00-SEP-001', 'eventTime': '2025-01-04T21:46Z', 'instruments': [{'displayName': 'SOHO: COSTEP 15.8-39.8 MeV'}], 'submissionTime': '2025-01-04T22:08Z', 'versionId': 1, 'link': 'https://webtools.ccmc.gsfc.nasa.gov/DONKI/view/SEP/36261/-1', 'linkedEvents': [{'activityID': '2025-01-04T14:24:00-FLR-001'}, {'activityID': '2025-01-04T15:12:00-CME-001'}, {'activityID': '2025-01-04T18:46:00-FLR-001'}, {'activityID': '2025-01-04T18:48:00-CME-001'}], 'sentNotifications': [{'messageID': '20250104-AL-011', 'messageIssueTime': '2025-01-04T22:13Z', 'messageURL': 'https://webtools.ccmc.gsfc.nasa.gov/DONKI/view/Alert/36262/1'}]}, {'sepID': '2025-01-04T22:15:00-SEP-001', 'eventTime': '2025-01-04T22:15Z', 'instruments': [{'displayName': 'GOES-P: SEISS >10 MeV'}], 'submissionTime': '2025-01-04T22:27Z', 'versionId': 1, 'link': 'https://webtools.ccmc.gsfc.nasa.gov/DONKI/view/SEP/36263/-1', 'linkedEvents': [{'activityID': '2025-01-04T14:24:00-FLR-001'}, {'activityID': '2025-01-04T15:12:00-CME-001'}, {'activityID': '2025-01-04T18:46:00-FLR-001'}, {'activityID': '2025-01-04T18:48:00-CME-001'}], 'sentNotifications': [{'messageID': '20250104-AL-012', 'messageIssueTime': '2025-01-04T22:27Z', 'messageURL': 'https://webtools.ccmc.gsfc.nasa.gov/DONKI/view/Alert/36264/1'}, {'messageID': '20250104-AL-013', 'messageIssueTime': '2025-01-04T22:38Z', 'messageURL': 'https://webtools.ccmc.gsfc.nasa.gov/DONKI/view/Alert/36266/1'}]}, {'sepID': '2025-01-04T22:23:00-SEP-001', 'eventTime': '2025-01-04T22:23Z', 'instruments': [{'displayName': 'STEREO A: IMPACT 13-100 MeV'}], 'submissionTime': '2025-01-04T22:43Z', 'versionId': 1, 'link': 'https://webtools.ccmc.gsfc.nasa.gov/DONKI/view/SEP/36267/-1', 'linkedEvents': [{'activityID': '2025-01-04T14:24:00-FLR-001'}, {'activityID': '2025-01-04T15:12:00-CME-001'}, {'activityID': '2025-01-04T18:46:00-FLR-001'}, {'activityID': '2025-01-04T18:48:00-CME-001'}], 'sentNotifications': [{'messageID': '20250104-AL-014', 'messageIssueTime': '2025-01-04T22:43Z', 'messageURL': 'https://webtools.ccmc.gsfc.nasa.gov/DONKI/view/Alert/36268/1'}, {'messageID': '20250104-AL-015', 'messageIssueTime': '2025-01-04T22:51Z', 'messageURL': 'https://webtools.ccmc.gsfc.nasa.gov/DONKI/view/Alert/36269/1'}]}, {'sepID': '2025-01-05T01:03:00-SEP-001', 'eventTime': '2025-01-05T01:03Z', 'instruments': [{'displayName': 'SOHO: COSTEP 28.2-50.1 MeV'}], 'submissionTime': '2025-01-05T01:57Z', 'versionId': 1, 'link': 'https://webtools.ccmc.gsfc.nasa.gov/DONKI/view/SEP/36274/-1', 'linkedEvents': [{'activityID': '2025-01-04T14:24:00-FLR-001'}, {'activityID': '2025-01-04T15:12:00-CME-001'}, {'activityID': '2025-01-04T18:46:00-FLR-001'}, {'activityID': '2025-01-04T18:48:00-CME-001'}], 'sentNotifications': [{'messageID': '20250105-AL-001', 'messageIssueTime': '2025-01-05T02:03Z', 'messageURL': 'https://webtools.ccmc.gsfc.nasa.gov/DONKI/view/Alert/36275/1'}]}, {'sepID': '2025-01-05T02:35:00-SEP-001', 'eventTime': '2025-01-05T02:35Z', 'instruments': [{'displayName': 'MODEL: REleASE:ACE/EPAM 15.8-39.8 MeV'}], 'submissionTime': '2025-01-05T15:34Z', 'versionId': 2, 'link': 'https://webtools.ccmc.gsfc.nasa.gov/DONKI/view/SEP/36278/-1', 'linkedEvents': [{'activityID': '2025-01-04T14:24:00-FLR-001'}, {'activityID': '2025-01-04T15:12:00-CME-001'}, {'activityID': '2025-01-04T18:46:00-FLR-001'}, {'activityID': '2025-01-04T18:48:00-CME-001'}], 'sentNotifications': None}, {'sepID': '2025-01-07T00:42:00-SEP-001', 'eventTime': '2025-01-07T00:42Z', 'instruments': [{'displayName': 'STEREO A: IMPACT 13-100 MeV'}], 'submissionTime': '2025-01-07T00:51Z', 'versionId': 1, 'link': 'https://webtools.ccmc.gsfc.nasa.gov/DONKI/view/SEP/36313/-1', 'linkedEvents': [{'activityID': '2025-01-07T00:46:00-IPS-001'}], 'sentNotifications': [{'messageID': '20250107-AL-001', 'messageIssueTime': '2025-01-07T00:51Z', 'messageURL': 'https://webtools.ccmc.gsfc.nasa.gov/DONKI/view/Alert/36314/1'}, {'messageID': '20250107-AL-002', 'messageIssueTime': '2025-01-07T01:52Z', 'messageURL': 'https://webtools.ccmc.gsfc.nasa.gov/DONKI/view/Alert/36317/1'}]}, {'sepID': '2025-02-25T00:11:00-SEP-001', 'eventTime': '2025-02-25T00:11Z', 'instruments': [{'displayName': 'SOHO: COSTEP 15.8-39.8 MeV'}], 'submissionTime': '2025-02-25T12:48Z', 'versionId': 1, 'link': 'https://webtools.ccmc.gsfc.nasa.gov/DONKI/view/SEP/37542/-1', 'linkedEvents': [{'activityID': '2025-02-24T21:24:00-CME-001'}, {'activityID': '2025-02-24T21:50:00-FLR-001'}], 'sentNotifications': None}, {'sepID': '2025-02-25T00:17:00-SEP-001', 'eventTime': '2025-02-25T00:17Z', 'instruments': [{'displayName': 'MODEL: REleASE:SOHO/EPHIN 15.8-39.8 MeV'}], 'submissionTime': '2025-02-25T00:18Z', 'versionId': 1, 'link': 'https://webtools.ccmc.gsfc.nasa.gov/DONKI/view/SEP/37524/-1', 'linkedEvents': [{'activityID': '2025-02-24T21:24:00-CME-001'}, {'activityID': '2025-02-24T21:50:00-FLR-001'}], 'sentNotifications': None}, {'sepID': '2025-02-25T00:20:00-SEP-001', 'eventTime': '2025-02-25T00:20Z', 'instruments': [{'displayName': 'GOES-P: SEISS >10 MeV'}], 'submissionTime': '2025-02-25T00:26Z', 'versionId': 1, 'link': 'https://webtools.ccmc.gsfc.nasa.gov/DONKI/view/SEP/37527/-1', 'linkedEvents': [{'activityID': '2025-02-24T21:24:00-CME-001'}, {'activityID': '2025-02-24T21:50:00-FLR-001'}], 'sentNotifications': [{'messageID': '20250225-AL-002', 'messageIssueTime': '2025-02-25T00:26Z', 'messageURL': 'https://webtools.ccmc.gsfc.nasa.gov/DONKI/view/Alert/37528/1'}, {'messageID': '20250225-AL-003', 'messageIssueTime': '2025-02-25T00:41Z', 'messageURL': 'https://webtools.ccmc.gsfc.nasa.gov/DONKI/view/Alert/37529/1'}]}, {'sepID': '2025-02-25T00:42:00-SEP-001', 'eventTime': '2025-02-25T00:42Z', 'instruments': [{'displayName': 'MODEL: REleASE:SOHO/EPHIN 28.2-50.1 MeV'}], 'submissionTime': '2025-02-25T12:43Z', 'versionId': 2, 'link': 'https://webtools.ccmc.gsfc.nasa.gov/DONKI/view/SEP/37525/-1', 'linkedEvents': [{'activityID': '2025-02-24T21:24:00-CME-001'}, {'activityID': '2025-02-24T21:50:00-FLR-001'}], 'sentNotifications': [{'messageID': '20250225-AL-001', 'messageIssueTime': '2025-02-25T00:26Z', 'messageURL': 'https://webtools.ccmc.gsfc.nasa.gov/DONKI/view/Alert/37526/1'}]}, {'sepID': '2025-02-25T03:05:00-SEP-001', 'eventTime': '2025-02-25T03:05Z', 'instruments': [{'displayName': 'STEREO A: IMPACT 13-100 MeV'}], 'submissionTime': '2025-02-25T03:38Z', 'versionId': 2, 'link': 'https://webtools.ccmc.gsfc.nasa.gov/DONKI/view/SEP/37537/-1', 'linkedEvents': [{'activityID': '2025-02-24T21:24:00-CME-001'}, {'activityID': '2025-02-24T21:50:00-FLR-001'}], 'sentNotifications': [{'messageID': '20250225-AL-005', 'messageIssueTime': '2025-02-25T03:18Z', 'messageURL': 'https://webtools.ccmc.gsfc.nasa.gov/DONKI/view/Alert/37538/1'}, {'messageID': '20250225-AL-006', 'messageIssueTime': '2025-02-25T03:42Z', 'messageURL': 'https://webtools.ccmc.gsfc.nasa.gov/DONKI/view/Alert/37539/1'}]}, {'sepID': '2025-02-25T03:52:00-SEP-001', 'eventTime': '2025-02-25T03:52Z', 'instruments': [{'displayName': 'SOHO: COSTEP 28.2-50.1 MeV'}], 'submissionTime': '2025-02-25T12:52Z', 'versionId': 1, 'link': 'https://webtools.ccmc.gsfc.nasa.gov/DONKI/view/SEP/37543/-1', 'linkedEvents': [{'activityID': '2025-02-24T21:24:00-CME-001'}, {'activityID': '2025-02-24T21:50:00-FLR-001'}], 'sentNotifications': [{'messageID': '20250225-AL-008', 'messageIssueTime': '2025-02-25T13:31Z', 'messageURL': 'https://webtools.ccmc.gsfc.nasa.gov/DONKI/view/Alert/37545/1'}]}, {'sepID': '2025-03-01T03:22:00-SEP-001', 'eventTime': '2025-03-01T03:22Z', 'instruments': [{'displayName': 'STEREO A: IMPACT 13-100 MeV'}], 'submissionTime': '2025-03-03T17:50Z', 'versionId': 3, 'link': 'https://webtools.ccmc.gsfc.nasa.gov/DONKI/view/SEP/37619/-1', 'linkedEvents': [{'activityID': '2025-02-28T17:12:00-CME-001'}], 'sentNotifications': [{'messageID': '20250301-AL-001', 'messageIssueTime': '2025-03-01T03:31Z', 'messageURL': 'https://webtools.ccmc.gsfc.nasa.gov/DONKI/view/Alert/37620/1'}, {'messageID': '20250301-AL-002', 'messageIssueTime': '2025-03-01T14:18Z', 'messageURL': 'https://webtools.ccmc.gsfc.nasa.gov/DONKI/view/Alert/37623/1'}]}, {'sepID': '2025-03-30T21:50:00-SEP-001', 'eventTime': '2025-03-30T21:50Z', 'instruments': [{'displayName': 'MODEL: REleASE:ACE/EPAM 15.8-39.8 MeV'}], 'submissionTime': '2025-03-30T21:59Z', 'versionId': 1, 'link': 'https://webtools.ccmc.gsfc.nasa.gov/DONKI/view/SEP/38117/-1', 'linkedEvents': [{'activityID': '2025-03-28T15:03:00-FLR-001'}, {'activityID': '2025-03-28T15:24:00-CME-001'}], 'sentNotifications': [{'messageID': '20250330-AL-005', 'messageIssueTime': '2025-03-30T22:09Z', 'messageURL': 'https://webtools.ccmc.gsfc.nasa.gov/DONKI/view/Alert/38118/1'}]}, {'sepID': '2025-03-31T02:17:00-SEP-001', 'eventTime': '2025-03-31T02:17Z', 'instruments': [{'displayName': 'MODEL: REleASE:SOHO/EPHIN 15.8-39.8 MeV'}], 'submissionTime': '2025-03-31T01:28Z', 'versionId': 1, 'link': 'https://webtools.ccmc.gsfc.nasa.gov/DONKI/view/SEP/38126/-1', 'linkedEvents': [{'activityID': '2025-03-28T15:03:00-FLR-001'}, {'activityID': '2025-03-28T15:24:00-CME-001'}], 'sentNotifications': [{'messageID': '20250331-AL-001', 'messageIssueTime': '2025-03-31T01:39Z', 'messageURL': 'https://webtools.ccmc.gsfc.nasa.gov/DONKI/view/Alert/38127/1'}]}, {'sepID': '2025-03-31T10:09:00-SEP-001', 'eventTime': '2025-03-31T10:09Z', 'instruments': [{'displayName': 'SOHO: COSTEP 15.8-39.8 MeV'}], 'submissionTime': '2025-03-31T16:48Z', 'versionId': 4, 'link': 'https://webtools.ccmc.gsfc.nasa.gov/DONKI/view/SEP/38132/-1', 'linkedEvents': [{'activityID': '2025-03-28T15:03:00-FLR-001'}, {'activityID': '2025-03-28T15:24:00-CME-001'}, {'activityID': '2025-03-31T10:16:00-IPS-001'}], 'sentNotifications': None}, {'sepID': '2025-03-31T11:05:00-SEP-001', 'eventTime': '2025-03-31T11:05Z', 'instruments': [{'displayName': 'GOES-P: SEISS >10 MeV'}], 'submissionTime': '2025-03-31T16:50Z', 'versionId': 2, 'link': 'https://webtools.ccmc.gsfc.nasa.gov/DONKI/view/SEP/38129/-1', 'linkedEvents': [{'activityID': '2025-03-28T15:03:00-FLR-001'}, {'activityID': '2025-03-28T15:24:00-CME-001'}, {'activityID': '2025-03-31T10:16:00-IPS-001'}], 'sentNotifications': [{'messageID': '20250331-AL-002', 'messageIssueTime': '2025-03-31T11:14Z', 'messageURL': 'https://webtools.ccmc.gsfc.nasa.gov/DONKI/view/Alert/38130/1'}, {'messageID': '20250331-AL-003', 'messageIssueTime': '2025-03-31T11:38Z', 'messageURL': 'https://webtools.ccmc.gsfc.nasa.gov/DONKI/view/Alert/38131/1'}]}, {'sepID': '2025-03-31T15:51:00-SEP-001', 'eventTime': '2025-03-31T15:51Z', 'instruments': [{'displayName': 'SOHO: COSTEP 28.2-50.1 MeV'}], 'submissionTime': '2025-03-31T16:33Z', 'versionId': 2, 'link': 'https://webtools.ccmc.gsfc.nasa.gov/DONKI/view/SEP/38138/-1', 'linkedEvents': [{'activityID': '2025-03-28T15:03:00-FLR-001'}, {'activityID': '2025-03-28T15:24:00-CME-001'}, {'activityID': '2025-03-31T10:16:00-IPS-001'}], 'sentNotifications': None}]\n"
     ]
    }
   ],
   "source": [
    "solar_flares_response = requests.get('https://api.nasa.gov/DONKI/SEP', params={'startDate': '2025-01-01', 'endDate': '2025-05-03', 'api_key': api})\n",
    "\n",
    "print(solar_flares_response.status_code)\n",
    "print(solar_flares_response.json())"
   ]
  },
  {
   "cell_type": "markdown",
   "id": "abf3a78c",
   "metadata": {},
   "source": []
  }
 ],
 "metadata": {
  "kernelspec": {
   "display_name": "Python 3",
   "language": "python",
   "name": "python3"
  },
  "language_info": {
   "codemirror_mode": {
    "name": "ipython",
    "version": 3
   },
   "file_extension": ".py",
   "mimetype": "text/x-python",
   "name": "python",
   "nbconvert_exporter": "python",
   "pygments_lexer": "ipython3",
   "version": "3.10.12"
  }
 },
 "nbformat": 4,
 "nbformat_minor": 5
}
