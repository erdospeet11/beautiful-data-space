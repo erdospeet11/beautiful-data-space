{
 "cells": [
  {
   "cell_type": "code",
   "execution_count": null,
   "id": "33bea625",
   "metadata": {},
   "outputs": [],
   "source": [
    "import pandas as pd\n",
    "from matplotlib import pyplot as plt\n",
    "import scipy.stats as stats\n",
    "import numpy as np\n",
    "import seaborn as sns\n",
    "\n",
    "df = pd.read_csv('weatherHistory.csv', parse_dates=['Formatted Date'])\n",
    "print(df.shape)\n",
    "print(df.info())\n",
    "print(df.describe(include='all'))"
   ]
  }
 ],
 "metadata": {
  "language_info": {
   "name": "python"
  }
 },
 "nbformat": 4,
 "nbformat_minor": 5
}
