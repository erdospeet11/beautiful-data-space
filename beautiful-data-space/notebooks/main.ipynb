{
 "cells": [
  {
   "cell_type": "code",
   "execution_count": 4,
   "id": "66962cb0",
   "metadata": {},
   "outputs": [],
   "source": [
    "import os\n",
    "from dotenv import load_dotenv\n",
    "\n",
    "load_dotenv()\n",
    "\n",
    "api = os.getenv('NASA_OPENAPI_KEY')"
   ]
  },
  {
   "cell_type": "code",
   "execution_count": 5,
   "id": "fe0b43e8",
   "metadata": {},
   "outputs": [
    {
     "data": {
      "text/plain": [
       "'https://apod.nasa.gov/apod/image/2509/C2025R2_1066.jpg'"
      ]
     },
     "execution_count": 5,
     "metadata": {},
     "output_type": "execute_result"
    }
   ],
   "source": [
    "import requests\n",
    "\n",
    "response = requests.get('https://api.nasa.gov/planetary/apod', params={'api_key': api})\n",
    "\n",
    "if response.headers['Content-Type'] == 'application/json':\n",
    "    data = response.json()\n",
    "    url = data.get('url')\n",
    "\n",
    "url"
   ]
  },
  {
   "cell_type": "code",
   "execution_count": 6,
   "id": "1bfaa714",
   "metadata": {},
   "outputs": [
    {
     "data": {
      "text/html": [
       "<div style='text-align:center'><img src='https://apod.nasa.gov/apod/image/2509/C2025R2_1066.jpg'></div>"
      ],
      "text/plain": [
       "<IPython.core.display.HTML object>"
      ]
     },
     "metadata": {},
     "output_type": "display_data"
    }
   ],
   "source": [
    "from IPython.display import display, HTML\n",
    "\n",
    "display(HTML(f\"<div style='text-align:center'><img src='{url}'></div>\"))"
   ]
  },
  {
   "cell_type": "markdown",
   "id": "9226c03d",
   "metadata": {},
   "source": [
    "### Solar Flares\n",
    "\n",
    "In my novel I am writing, there is a cosmic entity: The Pulse."
   ]
  },
  {
   "cell_type": "code",
   "execution_count": 7,
   "id": "85a3e00a",
   "metadata": {},
   "outputs": [
    {
     "name": "stdout",
     "output_type": "stream",
     "text": [
      "503\n"
     ]
    },
    {
     "ename": "JSONDecodeError",
     "evalue": "Expecting value: line 1 column 1 (char 0)",
     "output_type": "error",
     "traceback": [
      "\u001b[0;31m---------------------------------------------------------------------------\u001b[0m",
      "\u001b[0;31mJSONDecodeError\u001b[0m                           Traceback (most recent call last)",
      "File \u001b[0;32m~/.local/lib/python3.10/site-packages/requests/models.py:971\u001b[0m, in \u001b[0;36mResponse.json\u001b[0;34m(self, **kwargs)\u001b[0m\n\u001b[1;32m    970\u001b[0m \u001b[38;5;28;01mtry\u001b[39;00m:\n\u001b[0;32m--> 971\u001b[0m     \u001b[38;5;28;01mreturn\u001b[39;00m \u001b[43mcomplexjson\u001b[49m\u001b[38;5;241;43m.\u001b[39;49m\u001b[43mloads\u001b[49m\u001b[43m(\u001b[49m\u001b[38;5;28;43mself\u001b[39;49m\u001b[38;5;241;43m.\u001b[39;49m\u001b[43mtext\u001b[49m\u001b[43m,\u001b[49m\u001b[43m \u001b[49m\u001b[38;5;241;43m*\u001b[39;49m\u001b[38;5;241;43m*\u001b[39;49m\u001b[43mkwargs\u001b[49m\u001b[43m)\u001b[49m\n\u001b[1;32m    972\u001b[0m \u001b[38;5;28;01mexcept\u001b[39;00m JSONDecodeError \u001b[38;5;28;01mas\u001b[39;00m e:\n\u001b[1;32m    973\u001b[0m     \u001b[38;5;66;03m# Catch JSON-related errors and raise as requests.JSONDecodeError\u001b[39;00m\n\u001b[1;32m    974\u001b[0m     \u001b[38;5;66;03m# This aliases json.JSONDecodeError and simplejson.JSONDecodeError\u001b[39;00m\n",
      "File \u001b[0;32m/usr/lib/python3.10/json/__init__.py:346\u001b[0m, in \u001b[0;36mloads\u001b[0;34m(s, cls, object_hook, parse_float, parse_int, parse_constant, object_pairs_hook, **kw)\u001b[0m\n\u001b[1;32m    343\u001b[0m \u001b[38;5;28;01mif\u001b[39;00m (\u001b[38;5;28mcls\u001b[39m \u001b[38;5;129;01mis\u001b[39;00m \u001b[38;5;28;01mNone\u001b[39;00m \u001b[38;5;129;01mand\u001b[39;00m object_hook \u001b[38;5;129;01mis\u001b[39;00m \u001b[38;5;28;01mNone\u001b[39;00m \u001b[38;5;129;01mand\u001b[39;00m\n\u001b[1;32m    344\u001b[0m         parse_int \u001b[38;5;129;01mis\u001b[39;00m \u001b[38;5;28;01mNone\u001b[39;00m \u001b[38;5;129;01mand\u001b[39;00m parse_float \u001b[38;5;129;01mis\u001b[39;00m \u001b[38;5;28;01mNone\u001b[39;00m \u001b[38;5;129;01mand\u001b[39;00m\n\u001b[1;32m    345\u001b[0m         parse_constant \u001b[38;5;129;01mis\u001b[39;00m \u001b[38;5;28;01mNone\u001b[39;00m \u001b[38;5;129;01mand\u001b[39;00m object_pairs_hook \u001b[38;5;129;01mis\u001b[39;00m \u001b[38;5;28;01mNone\u001b[39;00m \u001b[38;5;129;01mand\u001b[39;00m \u001b[38;5;129;01mnot\u001b[39;00m kw):\n\u001b[0;32m--> 346\u001b[0m     \u001b[38;5;28;01mreturn\u001b[39;00m \u001b[43m_default_decoder\u001b[49m\u001b[38;5;241;43m.\u001b[39;49m\u001b[43mdecode\u001b[49m\u001b[43m(\u001b[49m\u001b[43ms\u001b[49m\u001b[43m)\u001b[49m\n\u001b[1;32m    347\u001b[0m \u001b[38;5;28;01mif\u001b[39;00m \u001b[38;5;28mcls\u001b[39m \u001b[38;5;129;01mis\u001b[39;00m \u001b[38;5;28;01mNone\u001b[39;00m:\n",
      "File \u001b[0;32m/usr/lib/python3.10/json/decoder.py:337\u001b[0m, in \u001b[0;36mJSONDecoder.decode\u001b[0;34m(self, s, _w)\u001b[0m\n\u001b[1;32m    333\u001b[0m \u001b[38;5;250m\u001b[39m\u001b[38;5;124;03m\"\"\"Return the Python representation of ``s`` (a ``str`` instance\u001b[39;00m\n\u001b[1;32m    334\u001b[0m \u001b[38;5;124;03mcontaining a JSON document).\u001b[39;00m\n\u001b[1;32m    335\u001b[0m \n\u001b[1;32m    336\u001b[0m \u001b[38;5;124;03m\"\"\"\u001b[39;00m\n\u001b[0;32m--> 337\u001b[0m obj, end \u001b[38;5;241m=\u001b[39m \u001b[38;5;28;43mself\u001b[39;49m\u001b[38;5;241;43m.\u001b[39;49m\u001b[43mraw_decode\u001b[49m\u001b[43m(\u001b[49m\u001b[43ms\u001b[49m\u001b[43m,\u001b[49m\u001b[43m \u001b[49m\u001b[43midx\u001b[49m\u001b[38;5;241;43m=\u001b[39;49m\u001b[43m_w\u001b[49m\u001b[43m(\u001b[49m\u001b[43ms\u001b[49m\u001b[43m,\u001b[49m\u001b[43m \u001b[49m\u001b[38;5;241;43m0\u001b[39;49m\u001b[43m)\u001b[49m\u001b[38;5;241;43m.\u001b[39;49m\u001b[43mend\u001b[49m\u001b[43m(\u001b[49m\u001b[43m)\u001b[49m\u001b[43m)\u001b[49m\n\u001b[1;32m    338\u001b[0m end \u001b[38;5;241m=\u001b[39m _w(s, end)\u001b[38;5;241m.\u001b[39mend()\n",
      "File \u001b[0;32m/usr/lib/python3.10/json/decoder.py:355\u001b[0m, in \u001b[0;36mJSONDecoder.raw_decode\u001b[0;34m(self, s, idx)\u001b[0m\n\u001b[1;32m    354\u001b[0m \u001b[38;5;28;01mexcept\u001b[39;00m \u001b[38;5;167;01mStopIteration\u001b[39;00m \u001b[38;5;28;01mas\u001b[39;00m err:\n\u001b[0;32m--> 355\u001b[0m     \u001b[38;5;28;01mraise\u001b[39;00m JSONDecodeError(\u001b[38;5;124m\"\u001b[39m\u001b[38;5;124mExpecting value\u001b[39m\u001b[38;5;124m\"\u001b[39m, s, err\u001b[38;5;241m.\u001b[39mvalue) \u001b[38;5;28;01mfrom\u001b[39;00m \u001b[38;5;28;01mNone\u001b[39;00m\n\u001b[1;32m    356\u001b[0m \u001b[38;5;28;01mreturn\u001b[39;00m obj, end\n",
      "\u001b[0;31mJSONDecodeError\u001b[0m: Expecting value: line 1 column 1 (char 0)",
      "\nDuring handling of the above exception, another exception occurred:\n",
      "\u001b[0;31mJSONDecodeError\u001b[0m                           Traceback (most recent call last)",
      "Cell \u001b[0;32mIn[7], line 4\u001b[0m\n\u001b[1;32m      1\u001b[0m solar_flares_response \u001b[38;5;241m=\u001b[39m requests\u001b[38;5;241m.\u001b[39mget(\u001b[38;5;124m'\u001b[39m\u001b[38;5;124mhttps://api.nasa.gov/DONKI/SEP\u001b[39m\u001b[38;5;124m'\u001b[39m, params\u001b[38;5;241m=\u001b[39m{\u001b[38;5;124m'\u001b[39m\u001b[38;5;124mstartDate\u001b[39m\u001b[38;5;124m'\u001b[39m: \u001b[38;5;124m'\u001b[39m\u001b[38;5;124m2025-01-01\u001b[39m\u001b[38;5;124m'\u001b[39m, \u001b[38;5;124m'\u001b[39m\u001b[38;5;124mendDate\u001b[39m\u001b[38;5;124m'\u001b[39m: \u001b[38;5;124m'\u001b[39m\u001b[38;5;124m2025-05-03\u001b[39m\u001b[38;5;124m'\u001b[39m, \u001b[38;5;124m'\u001b[39m\u001b[38;5;124mapi_key\u001b[39m\u001b[38;5;124m'\u001b[39m: api})\n\u001b[1;32m      3\u001b[0m \u001b[38;5;28mprint\u001b[39m(solar_flares_response\u001b[38;5;241m.\u001b[39mstatus_code)\n\u001b[0;32m----> 4\u001b[0m \u001b[38;5;28mprint\u001b[39m(\u001b[43msolar_flares_response\u001b[49m\u001b[38;5;241;43m.\u001b[39;49m\u001b[43mjson\u001b[49m\u001b[43m(\u001b[49m\u001b[43m)\u001b[49m)\n",
      "File \u001b[0;32m~/.local/lib/python3.10/site-packages/requests/models.py:975\u001b[0m, in \u001b[0;36mResponse.json\u001b[0;34m(self, **kwargs)\u001b[0m\n\u001b[1;32m    971\u001b[0m     \u001b[38;5;28;01mreturn\u001b[39;00m complexjson\u001b[38;5;241m.\u001b[39mloads(\u001b[38;5;28mself\u001b[39m\u001b[38;5;241m.\u001b[39mtext, \u001b[38;5;241m*\u001b[39m\u001b[38;5;241m*\u001b[39mkwargs)\n\u001b[1;32m    972\u001b[0m \u001b[38;5;28;01mexcept\u001b[39;00m JSONDecodeError \u001b[38;5;28;01mas\u001b[39;00m e:\n\u001b[1;32m    973\u001b[0m     \u001b[38;5;66;03m# Catch JSON-related errors and raise as requests.JSONDecodeError\u001b[39;00m\n\u001b[1;32m    974\u001b[0m     \u001b[38;5;66;03m# This aliases json.JSONDecodeError and simplejson.JSONDecodeError\u001b[39;00m\n\u001b[0;32m--> 975\u001b[0m     \u001b[38;5;28;01mraise\u001b[39;00m RequestsJSONDecodeError(e\u001b[38;5;241m.\u001b[39mmsg, e\u001b[38;5;241m.\u001b[39mdoc, e\u001b[38;5;241m.\u001b[39mpos)\n",
      "\u001b[0;31mJSONDecodeError\u001b[0m: Expecting value: line 1 column 1 (char 0)"
     ]
    }
   ],
   "source": [
    "solar_flares_response = requests.get('https://api.nasa.gov/DONKI/SEP', params={'startDate': '2025-01-01', 'endDate': '2025-05-03', 'api_key': api})\n",
    "\n",
    "print(solar_flares_response.status_code)\n",
    "print(solar_flares_response.json())"
   ]
  },
  {
   "cell_type": "code",
   "execution_count": null,
   "id": "51411987",
   "metadata": {},
   "outputs": [],
   "source": [
    "import requests\n",
    "import pandas as pd\n",
    "\n",
    "# API endpoint and parameters\n",
    "url = \"https://kauai.ccmc.gsfc.nasa.gov/DONKI/WS/get/FLR\"\n",
    "params = {\n",
    "    \"startDate\": \"2010-08-07\",\n",
    "    \"endDate\": \"2025-08-09\",\n",
    "    \"catalog\": \"ALL\",\n",
    "    \"class\": \"ALL\",\n",
    "    \"version\": \"ALL\"\n",
    "}\n",
    "\n",
    "# Fetch data\n",
    "response = requests.get(url, params=params)\n",
    "data = response.json()\n",
    "\n",
    "# Extract relevant fields\n",
    "rows = []\n",
    "for event in data:\n",
    "    rows.append({\n",
    "        \"flrID\": event.get(\"flrID\"),\n",
    "        \"catalog\": event.get(\"catalog\"),\n",
    "        \"instruments\": \", \".join([i.get(\"displayName\", \"\") for i in event.get(\"instruments\", [])]),\n",
    "        \"beginTime\": event.get(\"beginTime\"),\n",
    "        \"peakTime\": event.get(\"peakTime\"),\n",
    "        \"endTime\": event.get(\"endTime\"),\n",
    "        \"classType\": event.get(\"classType\"),\n",
    "        \"sourceLocation\": event.get(\"sourceLocation\"),\n",
    "        \"activeRegionNum\": event.get(\"activeRegionNum\"),\n",
    "        \"note\": event.get(\"note\"),\n",
    "        \"submissionTime\": event.get(\"submissionTime\"),\n",
    "        \"versionId\": event.get(\"versionId\"),\n",
    "        \"link\": event.get(\"link\"),\n",
    "        \"linkedEvents\": \", \".join([e.get(\"activityID\", \"\") for e in event.get(\"linkedEvents\") or []]),\n",
    "        \"sentNotifications\": \", \".join([\n",
    "            f\"{n.get('messageID', '')} ({n.get('messageIssueTime', '')}) {n.get('messageURL', '')}\"\n",
    "            for n in event.get(\"sentNotifications\") or []\n",
    "        ])\n",
    "    })\n",
    "\n",
    "# Save to CSV\n",
    "df = pd.DataFrame(rows)\n",
    "#df.to_csv(\"solar_flare_data.csv\", index=False)\n",
    "df.to_csv(\"solar_flare_data_test.csv\", index=False)"
   ]
  },
  {
   "cell_type": "code",
   "execution_count": 13,
   "id": "ac1c46b5",
   "metadata": {},
   "outputs": [
    {
     "name": "stdout",
     "output_type": "stream",
     "text": [
      "                         flrID      catalog              instruments  \\\n",
      "0  2010-04-03T09:04:00-FLR-001  M2M_CATALOG  GOES14: SEM/XRS 1.0-8.0   \n",
      "1  2010-06-12T00:30:00-FLR-001  M2M_CATALOG  GOES15: SEM/XRS 1.0-8.0   \n",
      "2  2010-06-12T00:30:00-FLR-001  M2M_CATALOG  GOES14: SEM/XRS 1.0-8.0   \n",
      "3  2010-08-07T17:55:00-FLR-001  M2M_CATALOG  GOES14: SEM/XRS 1.0-8.0   \n",
      "4  2010-08-07T17:55:00-FLR-001  M2M_CATALOG  GOES14: SEM/XRS 1.0-8.0   \n",
      "\n",
      "           beginTime           peakTime            endTime classType  \\\n",
      "0  2010-04-03T09:04Z  2010-04-03T09:54Z  2010-04-03T10:58Z      B7.4   \n",
      "1  2010-06-12T00:30Z  2010-06-12T00:57Z  2010-06-12T01:02Z      M2.0   \n",
      "2  2010-06-12T00:30Z  2010-06-12T00:57Z  2010-06-12T01:02Z      M2.0   \n",
      "3  2010-08-07T17:55Z  2010-08-07T18:24Z                NaN      M1.0   \n",
      "4  2010-08-07T17:55Z  2010-08-07T18:24Z  2010-08-07T18:47Z      M1.0   \n",
      "\n",
      "  sourceLocation  activeRegionNum note     submissionTime  versionId  \\\n",
      "0         S25W03          11059.0  NaN  2015-06-16T18:47Z          1   \n",
      "1         N22W43          11081.0  NaN  2013-07-17T19:40Z          1   \n",
      "2         N22W43          11081.0  NaN  2013-07-18T19:15Z          2   \n",
      "3         N14E37          11093.0  NaN  2013-07-18T19:13Z          1   \n",
      "4         N14E37          11093.0  NaN  2015-07-16T19:02Z          2   \n",
      "\n",
      "                                                link  \\\n",
      "0  https://kauai.ccmc.gsfc.nasa.gov/DONKI/view/FL...   \n",
      "1  https://kauai.ccmc.gsfc.nasa.gov/DONKI/view/FL...   \n",
      "2  https://kauai.ccmc.gsfc.nasa.gov/DONKI/view/FL...   \n",
      "3  https://kauai.ccmc.gsfc.nasa.gov/DONKI/view/FL...   \n",
      "4  https://kauai.ccmc.gsfc.nasa.gov/DONKI/view/FL...   \n",
      "\n",
      "                  linkedEvents  \\\n",
      "0  2010-04-03T09:54:00-CME-001   \n",
      "1                          NaN   \n",
      "2                          NaN   \n",
      "3                          NaN   \n",
      "4                          NaN   \n",
      "\n",
      "                                   sentNotifications  \n",
      "0                                                NaN  \n",
      "1  20100612-AL-001 (2010-06-12T02:20Z) https://ka...  \n",
      "2  20100612-AL-001 (2010-06-12T02:20Z) https://ka...  \n",
      "3  20100807-AL-001 (2010-08-07T20:35Z) https://ka...  \n",
      "4  20100807-AL-001 (2010-08-07T20:35Z) https://ka...  \n"
     ]
    }
   ],
   "source": [
    "import pandas as pd\n",
    "\n",
    "# Replace 'your_data.csv' with your actual file name\n",
    "df = pd.read_csv('solar_flare_data.csv')\n",
    "\n",
    "# Display the first few rows\n",
    "print(df.head())"
   ]
  }
 ],
 "metadata": {
  "kernelspec": {
   "display_name": "Python 3",
   "language": "python",
   "name": "python3"
  },
  "language_info": {
   "codemirror_mode": {
    "name": "ipython",
    "version": 3
   },
   "file_extension": ".py",
   "mimetype": "text/x-python",
   "name": "python",
   "nbconvert_exporter": "python",
   "pygments_lexer": "ipython3",
   "version": "3.10.12"
  }
 },
 "nbformat": 4,
 "nbformat_minor": 5
}
